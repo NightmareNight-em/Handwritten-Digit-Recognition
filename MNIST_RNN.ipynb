{
  "nbformat": 4,
  "nbformat_minor": 0,
  "metadata": {
    "colab": {
      "name": "MNIST_RNN.ipynb",
      "provenance": [],
      "collapsed_sections": []
    },
    "kernelspec": {
      "name": "python3",
      "display_name": "Python 3"
    }
  },
  "cells": [
    {
      "cell_type": "code",
      "metadata": {
        "id": "RyICS2BCU0ix",
        "colab_type": "code",
        "colab": {}
      },
      "source": [
        "import tensorflow as tf\n",
        "from\ttensorflow.contrib.layers\timport\tfully_connected\n",
        "n_steps\t=\t28 \n",
        "n_inputs\t=\t28 \n",
        "n_neurons\t=\t150 \n",
        "n_outputs\t=\t10\n",
        "learning_rate\t=\t0.001\n",
        "X\t=\ttf.placeholder(tf.float32,\t[None,\tn_steps,\tn_inputs]) #palceholder is used to store a variable\n",
        "y\t=\ttf.placeholder(tf.int32,\t[None])\n",
        "basic_cell\t=\ttf.contrib.rnn.BasicRNNCell(num_units=n_neurons) \n",
        "outputs,\tstates\t=\ttf.nn.dynamic_rnn(basic_cell,\tX,\tdtype=tf.float32)\n",
        "logits\t=\tfully_connected(states,\tn_outputs,\tactivation_fn=None) \n",
        "xentropy\t=\ttf.nn.sparse_softmax_cross_entropy_with_logits(labels=y,\tlogits=logits) \n",
        "loss\t=\ttf.reduce_mean(xentropy) \n",
        "optimizer\t=\ttf.train.AdamOptimizer(learning_rate=learning_rate) \n",
        "training_op\t=\toptimizer.minimize(loss) \n",
        "correct\t=\ttf.nn.in_top_k(logits,\ty,\t1) \n",
        "accuracy\t=\ttf.reduce_mean(tf.cast(correct,\ttf.float32))\n",
        "init\t=\ttf.global_variables_initializer()\n"
      ],
      "execution_count": 0,
      "outputs": []
    },
    {
      "cell_type": "code",
      "metadata": {
        "id": "d1gdDUXnVTe6",
        "colab_type": "code",
        "colab": {}
      },
      "source": [
        "from\ttensorflow.examples.tutorials.mnist\timport\tinput_data\n",
        "mnist\t=\tinput_data.read_data_sets(\"/tmp/data/\") \n",
        "X_test\t=\tmnist.test.images.reshape((-1,\tn_steps,\tn_inputs)) \n",
        "y_test\t=\tmnist.test.labels\n"
      ],
      "execution_count": 0,
      "outputs": []
    },
    {
      "cell_type": "code",
      "metadata": {
        "id": "6-PMB-I4VaHX",
        "colab_type": "code",
        "outputId": "ffbc5c2a-f542-4c2c-af25-ea386a869618",
        "colab": {
          "base_uri": "https://localhost:8080/",
          "height": 1000
        }
      },
      "source": [
        "n_epochs\t=\t100 \n",
        "batch_size\t=\t150\n",
        "with\ttf.Session()\tas\tsess:\t\t\t\t\n",
        "  init.run()\t\t\t\t\n",
        "  for\tepoch\tin\trange(n_epochs):\t\t\t\t\t\t\t\t\n",
        "    for\titeration\tin\trange(mnist.train.num_examples\t//\tbatch_size):\t\t\t\t\t\t\t\t\t\t\t\t\n",
        "      X_batch,\ty_batch\t=\tmnist.train.next_batch(batch_size)\t\t\t\t\t\t\t\t\t\t\t\t\n",
        "      X_batch\t=\tX_batch.reshape((-1,\tn_steps,\tn_inputs))\t\t\t\t\t\t\t\t\t\t\t\t\n",
        "      sess.run(training_op,\tfeed_dict={X:\tX_batch,\ty:\ty_batch})\t\t\t\t\t\t\t\t\n",
        "    acc_train\t=\taccuracy.eval(feed_dict={X:\tX_batch,\ty:\ty_batch})\t\t\t\t\t\t\t\t\n",
        "    acc_test\t=\taccuracy.eval(feed_dict={X:\tX_test,\ty:\ty_test})\t\t\t\t\t\t\t\t\n",
        "    print(epoch,\t\"Train\taccuracy:\",\tacc_train,\t\"Test\taccuracy:\",\tacc_test)"
      ],
      "execution_count": 0,
      "outputs": [
        {
          "output_type": "stream",
          "text": [
            "0 Train\taccuracy: 0.94 Test\taccuracy: 0.9274\n",
            "1 Train\taccuracy: 0.8933333 Test\taccuracy: 0.9489\n",
            "2 Train\taccuracy: 0.9533333 Test\taccuracy: 0.9556\n",
            "3 Train\taccuracy: 0.99333334 Test\taccuracy: 0.9464\n",
            "4 Train\taccuracy: 0.97333336 Test\taccuracy: 0.9615\n",
            "5 Train\taccuracy: 0.98 Test\taccuracy: 0.9653\n",
            "6 Train\taccuracy: 0.96666664 Test\taccuracy: 0.9727\n",
            "7 Train\taccuracy: 0.99333334 Test\taccuracy: 0.9756\n",
            "8 Train\taccuracy: 1.0 Test\taccuracy: 0.9744\n",
            "9 Train\taccuracy: 0.9866667 Test\taccuracy: 0.971\n",
            "10 Train\taccuracy: 1.0 Test\taccuracy: 0.9717\n",
            "11 Train\taccuracy: 0.98 Test\taccuracy: 0.9769\n",
            "12 Train\taccuracy: 0.98 Test\taccuracy: 0.9733\n",
            "13 Train\taccuracy: 0.97333336 Test\taccuracy: 0.9746\n",
            "14 Train\taccuracy: 1.0 Test\taccuracy: 0.9748\n",
            "15 Train\taccuracy: 0.97333336 Test\taccuracy: 0.9733\n",
            "16 Train\taccuracy: 0.98 Test\taccuracy: 0.9753\n",
            "17 Train\taccuracy: 0.96666664 Test\taccuracy: 0.9757\n",
            "18 Train\taccuracy: 0.9866667 Test\taccuracy: 0.976\n",
            "19 Train\taccuracy: 0.98 Test\taccuracy: 0.9797\n",
            "20 Train\taccuracy: 0.9866667 Test\taccuracy: 0.9756\n",
            "21 Train\taccuracy: 0.97333336 Test\taccuracy: 0.976\n",
            "22 Train\taccuracy: 0.98 Test\taccuracy: 0.98\n",
            "23 Train\taccuracy: 0.99333334 Test\taccuracy: 0.9756\n",
            "24 Train\taccuracy: 0.96666664 Test\taccuracy: 0.9755\n",
            "25 Train\taccuracy: 0.9866667 Test\taccuracy: 0.9793\n",
            "26 Train\taccuracy: 0.98 Test\taccuracy: 0.9773\n",
            "27 Train\taccuracy: 0.9866667 Test\taccuracy: 0.9776\n",
            "28 Train\taccuracy: 0.9866667 Test\taccuracy: 0.9764\n",
            "29 Train\taccuracy: 1.0 Test\taccuracy: 0.9776\n",
            "30 Train\taccuracy: 1.0 Test\taccuracy: 0.9755\n",
            "31 Train\taccuracy: 0.99333334 Test\taccuracy: 0.979\n",
            "32 Train\taccuracy: 0.9866667 Test\taccuracy: 0.9757\n",
            "33 Train\taccuracy: 0.99333334 Test\taccuracy: 0.9756\n",
            "34 Train\taccuracy: 1.0 Test\taccuracy: 0.9767\n",
            "35 Train\taccuracy: 0.9533333 Test\taccuracy: 0.9559\n",
            "36 Train\taccuracy: 0.99333334 Test\taccuracy: 0.9771\n",
            "37 Train\taccuracy: 1.0 Test\taccuracy: 0.9769\n",
            "38 Train\taccuracy: 0.99333334 Test\taccuracy: 0.9795\n",
            "39 Train\taccuracy: 0.99333334 Test\taccuracy: 0.9805\n",
            "40 Train\taccuracy: 1.0 Test\taccuracy: 0.9821\n",
            "41 Train\taccuracy: 1.0 Test\taccuracy: 0.9801\n",
            "42 Train\taccuracy: 0.98 Test\taccuracy: 0.9706\n",
            "43 Train\taccuracy: 0.99333334 Test\taccuracy: 0.9784\n",
            "44 Train\taccuracy: 0.99333334 Test\taccuracy: 0.9734\n",
            "45 Train\taccuracy: 1.0 Test\taccuracy: 0.9717\n",
            "46 Train\taccuracy: 0.99333334 Test\taccuracy: 0.9787\n",
            "47 Train\taccuracy: 0.99333334 Test\taccuracy: 0.9765\n",
            "48 Train\taccuracy: 1.0 Test\taccuracy: 0.9811\n",
            "49 Train\taccuracy: 0.99333334 Test\taccuracy: 0.9762\n",
            "50 Train\taccuracy: 0.99333334 Test\taccuracy: 0.9772\n",
            "51 Train\taccuracy: 0.9866667 Test\taccuracy: 0.9783\n",
            "52 Train\taccuracy: 0.9866667 Test\taccuracy: 0.9786\n",
            "53 Train\taccuracy: 0.99333334 Test\taccuracy: 0.9775\n",
            "54 Train\taccuracy: 1.0 Test\taccuracy: 0.9801\n",
            "55 Train\taccuracy: 1.0 Test\taccuracy: 0.979\n",
            "56 Train\taccuracy: 0.99333334 Test\taccuracy: 0.977\n",
            "57 Train\taccuracy: 0.99333334 Test\taccuracy: 0.981\n",
            "58 Train\taccuracy: 0.99333334 Test\taccuracy: 0.9779\n",
            "59 Train\taccuracy: 0.99333334 Test\taccuracy: 0.9741\n",
            "60 Train\taccuracy: 1.0 Test\taccuracy: 0.9809\n",
            "61 Train\taccuracy: 0.99333334 Test\taccuracy: 0.9796\n",
            "62 Train\taccuracy: 0.98 Test\taccuracy: 0.9797\n",
            "63 Train\taccuracy: 0.9866667 Test\taccuracy: 0.9736\n",
            "64 Train\taccuracy: 0.99333334 Test\taccuracy: 0.9785\n",
            "65 Train\taccuracy: 0.9866667 Test\taccuracy: 0.9726\n",
            "66 Train\taccuracy: 1.0 Test\taccuracy: 0.9789\n",
            "67 Train\taccuracy: 0.9866667 Test\taccuracy: 0.976\n",
            "68 Train\taccuracy: 0.99333334 Test\taccuracy: 0.9805\n",
            "69 Train\taccuracy: 0.99333334 Test\taccuracy: 0.9778\n",
            "70 Train\taccuracy: 1.0 Test\taccuracy: 0.9799\n",
            "71 Train\taccuracy: 0.96666664 Test\taccuracy: 0.9732\n",
            "72 Train\taccuracy: 0.99333334 Test\taccuracy: 0.9757\n",
            "73 Train\taccuracy: 0.99333334 Test\taccuracy: 0.9817\n",
            "74 Train\taccuracy: 0.9866667 Test\taccuracy: 0.9783\n",
            "75 Train\taccuracy: 0.99333334 Test\taccuracy: 0.9779\n",
            "76 Train\taccuracy: 0.9866667 Test\taccuracy: 0.981\n",
            "77 Train\taccuracy: 0.99333334 Test\taccuracy: 0.9768\n",
            "78 Train\taccuracy: 1.0 Test\taccuracy: 0.9799\n",
            "79 Train\taccuracy: 1.0 Test\taccuracy: 0.9772\n",
            "80 Train\taccuracy: 1.0 Test\taccuracy: 0.9777\n",
            "81 Train\taccuracy: 0.9866667 Test\taccuracy: 0.9785\n",
            "82 Train\taccuracy: 1.0 Test\taccuracy: 0.9747\n",
            "83 Train\taccuracy: 1.0 Test\taccuracy: 0.9785\n",
            "84 Train\taccuracy: 0.9866667 Test\taccuracy: 0.9759\n",
            "85 Train\taccuracy: 1.0 Test\taccuracy: 0.9803\n",
            "86 Train\taccuracy: 1.0 Test\taccuracy: 0.9734\n",
            "87 Train\taccuracy: 1.0 Test\taccuracy: 0.9799\n",
            "88 Train\taccuracy: 0.9866667 Test\taccuracy: 0.9776\n",
            "89 Train\taccuracy: 0.99333334 Test\taccuracy: 0.9806\n",
            "90 Train\taccuracy: 0.99333334 Test\taccuracy: 0.9765\n",
            "91 Train\taccuracy: 1.0 Test\taccuracy: 0.9779\n",
            "92 Train\taccuracy: 0.9866667 Test\taccuracy: 0.9768\n",
            "93 Train\taccuracy: 0.99333334 Test\taccuracy: 0.9769\n",
            "94 Train\taccuracy: 0.99333334 Test\taccuracy: 0.9751\n",
            "95 Train\taccuracy: 0.99333334 Test\taccuracy: 0.9668\n",
            "96 Train\taccuracy: 0.9866667 Test\taccuracy: 0.9803\n",
            "97 Train\taccuracy: 1.0 Test\taccuracy: 0.9787\n",
            "98 Train\taccuracy: 0.99333334 Test\taccuracy: 0.9715\n",
            "99 Train\taccuracy: 0.99333334 Test\taccuracy: 0.9785\n"
          ],
          "name": "stdout"
        }
      ]
    },
    {
      "cell_type": "code",
      "metadata": {
        "id": "AI_fvPdgVu3H",
        "colab_type": "code",
        "colab": {}
      },
      "source": [
        ""
      ],
      "execution_count": 0,
      "outputs": []
    }
  ]
}